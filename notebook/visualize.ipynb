{
 "cells": [
  {
   "cell_type": "code",
   "execution_count": 3,
   "metadata": {
    "collapsed": true
   },
   "outputs": [],
   "source": [
    "import os\n",
    "import pandas as pd \n",
    "import cv2  \n",
    "import numpy as np\n",
    "import matplotlib.pyplot as plt\n",
    "%matplotlib inline\n",
    "import numpy as np\n",
    "from matplotlib import pyplot as plt\n",
    "from sklearn.manifold import TSNE"
   ]
  },
  {
   "cell_type": "code",
   "execution_count": 4,
   "metadata": {},
   "outputs": [
    {
     "name": "stdout",
     "output_type": "stream",
     "text": [
      "(180, 2)\n"
     ]
    },
    {
     "data": {
      "text/html": [
       "<div>\n",
       "<style>\n",
       "    .dataframe thead tr:only-child th {\n",
       "        text-align: right;\n",
       "    }\n",
       "\n",
       "    .dataframe thead th {\n",
       "        text-align: left;\n",
       "    }\n",
       "\n",
       "    .dataframe tbody tr th {\n",
       "        vertical-align: top;\n",
       "    }\n",
       "</style>\n",
       "<table border=\"1\" class=\"dataframe\">\n",
       "  <thead>\n",
       "    <tr style=\"text-align: right;\">\n",
       "      <th></th>\n",
       "      <th>camera</th>\n",
       "      <th>fname</th>\n",
       "    </tr>\n",
       "  </thead>\n",
       "  <tbody>\n",
       "    <tr>\n",
       "      <th>86</th>\n",
       "      <td>HTC-1-M7</td>\n",
       "      <td>(HTC-1-M7)9-r0.5-512.jpg</td>\n",
       "    </tr>\n",
       "    <tr>\n",
       "      <th>71</th>\n",
       "      <td>HTC-1-M7</td>\n",
       "      <td>(HTC-1-M7)7-r2.0-512.jpg</td>\n",
       "    </tr>\n",
       "    <tr>\n",
       "      <th>170</th>\n",
       "      <td>iPhone-4s</td>\n",
       "      <td>(iP4s)8-r2.0-512.jpg</td>\n",
       "    </tr>\n",
       "    <tr>\n",
       "      <th>78</th>\n",
       "      <td>HTC-1-M7</td>\n",
       "      <td>(HTC-1-M7)8-r0.8-512.jpg</td>\n",
       "    </tr>\n",
       "    <tr>\n",
       "      <th>136</th>\n",
       "      <td>iPhone-4s</td>\n",
       "      <td>(iP4s)5-g0.8-512.jpg</td>\n",
       "    </tr>\n",
       "  </tbody>\n",
       "</table>\n",
       "</div>"
      ],
      "text/plain": [
       "        camera                     fname\n",
       "86    HTC-1-M7  (HTC-1-M7)9-r0.5-512.jpg\n",
       "71    HTC-1-M7  (HTC-1-M7)7-r2.0-512.jpg\n",
       "170  iPhone-4s      (iP4s)8-r2.0-512.jpg\n",
       "78    HTC-1-M7  (HTC-1-M7)8-r0.8-512.jpg\n",
       "136  iPhone-4s      (iP4s)5-g0.8-512.jpg"
      ]
     },
     "execution_count": 4,
     "metadata": {},
     "output_type": "execute_result"
    }
   ],
   "source": [
    "train_path = '../data/samples10-m-2'\n",
    "#train_path = '../data/train'\n",
    "cameras = os.listdir(train_path)\n",
    "\n",
    "train_images = []\n",
    "for camera in cameras:\n",
    "    for fname in sorted(os.listdir(train_path+ '/'+ camera)):\n",
    "        train_images.append((camera, fname))\n",
    "\n",
    "train = pd.DataFrame(train_images, columns=['camera', 'fname'])\n",
    "print(train.shape)\n",
    "train.sample(5)"
   ]
  },
  {
   "cell_type": "code",
   "execution_count": 46,
   "metadata": {},
   "outputs": [
    {
     "name": "stdout",
     "output_type": "stream",
     "text": [
      "Images shape: (180, 786432)\n"
     ]
    }
   ],
   "source": [
    "data = pd.DataFrame(columns=['image','camera'])\n",
    "images = []\n",
    "cameras = []\n",
    "input_path = '../data/samples10-m-2/'\n",
    "#input_path = '../data/train/'\n",
    "\n",
    "for img in train_images:\n",
    "    im_path = input_path+img[0]+'/'+img[1]\n",
    "    image = cv2.imread(im_path)    \n",
    "    ni = image.reshape(-1)\n",
    "    images.append (ni)\n",
    "    cameras.append(img[0])\n",
    "\n",
    "print('Images shape:', np.array(images).shape)"
   ]
  },
  {
   "cell_type": "code",
   "execution_count": 49,
   "metadata": {},
   "outputs": [
    {
     "data": {
      "text/plain": [
       "(180,)"
      ]
     },
     "execution_count": 49,
     "metadata": {},
     "output_type": "execute_result"
    }
   ],
   "source": [
    "y = np.array(cameras)\n",
    "y.shape"
   ]
  },
  {
   "cell_type": "code",
   "execution_count": 54,
   "metadata": {},
   "outputs": [],
   "source": [
    "tsne = TSNE(n_components=2, random_state=0)\n",
    "X_2d = tsne.fit_transform(images)"
   ]
  },
  {
   "cell_type": "code",
   "execution_count": 58,
   "metadata": {},
   "outputs": [
    {
     "data": {
      "text/plain": [
       "2"
      ]
     },
     "execution_count": 58,
     "metadata": {},
     "output_type": "execute_result"
    }
   ],
   "source": [
    "len(np.unique(y))"
   ]
  },
  {
   "cell_type": "code",
   "execution_count": 60,
   "metadata": {},
   "outputs": [
    {
     "data": {
      "text/plain": [
       "array(['HTC-1-M7', 'iPhone-4s'], \n",
       "      dtype='<U9')"
      ]
     },
     "execution_count": 60,
     "metadata": {},
     "output_type": "execute_result"
    }
   ],
   "source": [
    "np.unique(y)"
   ]
  },
  {
   "cell_type": "code",
   "execution_count": 95,
   "metadata": {},
   "outputs": [
    {
     "name": "stdout",
     "output_type": "stream",
     "text": [
      "180 180\n"
     ]
    }
   ],
   "source": [
    "print(len(X_2d),len(y))"
   ]
  },
  {
   "cell_type": "code",
   "execution_count": 110,
   "metadata": {},
   "outputs": [
    {
     "name": "stdout",
     "output_type": "stream",
     "text": [
      "range(0, 180)\n"
     ]
    },
    {
     "data": {
      "image/png": "[encoded data removed]",
      "text/plain": [
       "<matplotlib.figure.Figure at 0xa0ff9da940>"
      ]
     },
     "metadata": {},
     "output_type": "display_data"
    }
   ],
   "source": [
    "#target_ids = range(len(np.unique(y)))\n",
    "target_ids = range(len(y))\n",
    "print(target_ids)\n",
    "\n",
    "from matplotlib import pyplot as plt\n",
    "plt.figure(figsize=(6, 5))\n",
    "for i in target_ids:\n",
    "    if(y[i]=='HTC-1-M7'):\n",
    "        htc = plt.scatter(X_2d[i,0],X_2d[i,1],c='r',label=y[i])\n",
    "    if(y[i]=='iPhone-4s'):\n",
    "        ip= plt.scatter(X_2d[i,0],X_2d[i,1],c='g',label=y[i])\n",
    "plt.legend()\n",
    "plt.legend([htc, ip], ['htc', 'iphone'])\n",
    "plt.show()"
   ]
  },
  {
   "cell_type": "code",
   "execution_count": null,
   "metadata": {
    "collapsed": true
   },
   "outputs": [],
   "source": []
  }
 ],
 "metadata": {
  "anaconda-cloud": {},
  "kernelspec": {
   "display_name": "Python 3",
   "language": "python",
   "name": "python3"
  },
  "language_info": {
   "codemirror_mode": {
    "name": "ipython",
    "version": 3
   },
   "file_extension": ".py",
   "mimetype": "text/x-python",
   "name": "python",
   "nbconvert_exporter": "python",
   "pygments_lexer": "ipython3",
   "version": "3.6.1"
  }
 },
 "nbformat": 4,
 "nbformat_minor": 1
}
